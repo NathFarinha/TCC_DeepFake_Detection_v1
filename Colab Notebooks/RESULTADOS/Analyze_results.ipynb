{
  "cells": [
    {
      "cell_type": "markdown",
      "source": [
        "# Análise dos resultados das redes individualmente\n",
        "Retirado e modificado a partir do GitHub do artigo original\n",
        "https://github.com/polimi-ispl/icpr2020dfdc.git"
      ],
      "metadata": {
        "collapsed": false,
        "pycharm": {
          "name": "#%% md\n"
        },
        "id": "EHFNZbKB6T_7"
      }
    },
    {
      "cell_type": "code",
      "source": [
        "# Clonar o repositório do projeto TCC\n",
        "!git clone https://github.com/NathFarinha/TCC_DeepFake_Detection_v1.git"
      ],
      "metadata": {
        "colab": {
          "base_uri": "https://localhost:8080/"
        },
        "id": "yhshk-rY6ZtN",
        "outputId": "e532194b-fac9-4dbb-adc2-475fbe05df7c"
      },
      "execution_count": 1,
      "outputs": [
        {
          "output_type": "stream",
          "name": "stdout",
          "text": [
            "Cloning into 'TCC_DeepFake_Detection_v1'...\n",
            "remote: Enumerating objects: 461, done.\u001b[K\n",
            "remote: Counting objects: 100% (265/265), done.\u001b[K\n",
            "remote: Compressing objects: 100% (242/242), done.\u001b[K\n",
            "remote: Total 461 (delta 95), reused 144 (delta 21), pack-reused 196\u001b[K\n",
            "Receiving objects: 100% (461/461), 98.29 MiB | 40.81 MiB/s, done.\n",
            "Resolving deltas: 100% (155/155), done.\n"
          ]
        }
      ]
    },
    {
      "cell_type": "code",
      "source": [
        "\"\"\"\n",
        "Escolha as redes entre:\n",
        "- Xception\n",
        "- EfficientNetB4\n",
        "- EfficientNetB4ST\n",
        "- EfficientNetAutoAttB4\n",
        "- EfficientNetAutoAttB4ST\n",
        "\"\"\"\n",
        "result_net = 'EfficientNetAutoAttB4ST'"
      ],
      "metadata": {
        "id": "r1TKPxptmdRT"
      },
      "execution_count": 2,
      "outputs": []
    },
    {
      "cell_type": "code",
      "source": [
        "import os  # Módulo para interagir com o sistema operacional\n",
        "from pathlib import Path  # Módulo para trabalhar com caminhos de arquivos e diretórios\n",
        "import zipfile  # Módulo para trabalhar com arquivos ZIP\n",
        "\n",
        "import numpy as np  # Biblioteca NumPy para computação numérica\n",
        "import pandas as pd  # Biblioteca Pandas para manipulação de dados em estruturas de DataFrame\n",
        "import sklearn.metrics as M  # Biblioteca scikit-learn para métricas de aprendizado de máquina\n",
        "from scipy.special import expit  # Função sigmoide expit() da biblioteca SciPy\n",
        "from tqdm.notebook import tqdm  # Biblioteca tqdm para exibição de barras de progresso"
      ],
      "metadata": {
        "id": "nc0-mPFP9p0s"
      },
      "execution_count": 3,
      "outputs": []
    },
    {
      "cell_type": "code",
      "source": [
        "import os  # Módulo para interagir com o sistema operacional\n",
        "import zipfile  # Módulo para trabalhar com arquivos ZIP\n",
        "\n",
        "# Cria uma pasta chamada 'results' no diretório '/content'\n",
        "os.mkdir('/content/results')\n",
        "\n",
        "# Define o caminho para o arquivo ZIP que será extraído.\n",
        "result_path = f'/content/TCC_DeepFake_Detection_v1/results_1000_videos_DFDC/results_1000_videos_{result_net}.zip'\n",
        "\n",
        "# Extrai o conteúdo do arquivo ZIP para a pasta recém-criada '/content/results'\n",
        "with zipfile.ZipFile(result_path, 'r') as zip_ref:\n",
        "    zip_ref.extractall('/content/results')\n",
        "\n",
        "# Remove um arquivo específico dentro da pasta recém-criada\n",
        "caminho_do_arquivo = f'/content/results/net-{result_net}_traindb-dfdc-35-5-10_face-scale_size-224_seed-41_bestval/dfdc-35-5-10_val.pkl'\n",
        "os.remove(caminho_do_arquivo)\n"
      ],
      "metadata": {
        "id": "X7T8Q9U-9-Ab"
      },
      "execution_count": 4,
      "outputs": []
    },
    {
      "cell_type": "code",
      "execution_count": 5,
      "metadata": {
        "pycharm": {
          "is_executing": false,
          "name": "#%%\n"
        },
        "id": "6_XCuofk6UAA"
      },
      "outputs": [],
      "source": [
        "# Define o caminho para a pasta raiz de resultados.\n",
        "results_root = Path('/content/results/')\n",
        "\n",
        "# Usa o método glob para listar todos os subdiretórios que correspondem ao padrão 'net-*'.\n",
        "results_model_folder = list(results_root.glob('net-*'))"
      ]
    },
    {
      "cell_type": "code",
      "execution_count": 6,
      "metadata": {
        "pycharm": {
          "is_executing": false,
          "name": "#%%\n"
        },
        "id": "yTHJMYAV6UAA"
      },
      "outputs": [],
      "source": [
        "# A função 'compute_metrics' calcula métricas com base no DataFrame\n",
        "# 'df_res' e nas informações de treinamento 'train_tag'.\n",
        "def compute_metrics(df_res: pd.DataFrame, train_tag: str) -> dict:\n",
        "    # Calcula o número de exemplos reais e falsos no DataFrame\n",
        "    numreal = sum(df_res['label'] == False)\n",
        "    numfake = sum(df_res['label'] == True)\n",
        "\n",
        "    # Extrai informações do nome 'train_tag'.\n",
        "    netname = train_tag.split('net-')[1].split('_')[0]\n",
        "    traindb = train_tag.split('traindb-')[1].split('_')[0]\n",
        "\n",
        "    # Calcula várias métricas com base nos valores do DataFrame.\n",
        "    loss = M.log_loss(df_res['label'], expit(df_res['score']))\n",
        "    acc = M.accuracy_score(df_res['label'], df_res['score'] > 0)\n",
        "    accbal = M.balanced_accuracy_score(df_res['label'], df_res['score'] > 0)\n",
        "    rocauc = M.roc_auc_score(df_res['label'], df_res['score'])\n",
        "\n",
        "    # Cria um dicionário com as métricas calculadas e informações de treinamento\n",
        "    res_dict = {\n",
        "        'traintag': train_tag,\n",
        "        'net': netname,\n",
        "        'traindb': traindb,\n",
        "        'numreal': numreal,\n",
        "        'numfake': numfake,\n",
        "        'loss': loss,\n",
        "        'acc': acc,\n",
        "        'accbal': accbal,\n",
        "        'rocauc': rocauc\n",
        "    }\n",
        "\n",
        "    # Retorna o dicionário com as métricas calculadas e informações de treinamento\n",
        "    return res_dict"
      ]
    },
    {
      "cell_type": "code",
      "execution_count": 7,
      "metadata": {
        "pycharm": {
          "is_executing": false,
          "name": "#%%\n"
        },
        "colab": {
          "base_uri": "https://localhost:8080/",
          "height": 121,
          "referenced_widgets": [
            "26d04c0f74914ba89024dcfbb0502b6c",
            "22aa095635f74e6c915c1cb263bc2060",
            "fe051550c9a84bdb8dadf61d5fc811d5",
            "6b4afe77948b488ca19da47952fde19f",
            "f65fd57474b043d3aaca6ec390a879c0",
            "327ef9514d0540b1b8acad0ae67a7540",
            "bf4f0126e6c04f6185a78eeaff3d7d24",
            "711fc7110761436dbf4c533c81af57da",
            "9501be119f2c4808a3b09f6748dda7f1",
            "5fa2456cd15d460986be3a6c921daef5",
            "a41f3944dfb044c38d795d55d86370a4"
          ]
        },
        "id": "nzjvIRT46UAB",
        "outputId": "6bd2ddc0-f90e-4ca9-8a44-b1e1fef9ff44"
      },
      "outputs": [
        {
          "output_type": "display_data",
          "data": {
            "text/plain": [
              "  0%|          | 0/1 [00:00<?, ?it/s]"
            ],
            "application/vnd.jupyter.widget-view+json": {
              "version_major": 2,
              "version_minor": 0,
              "model_id": "26d04c0f74914ba89024dcfbb0502b6c"
            }
          },
          "metadata": {}
        },
        {
          "output_type": "stream",
          "name": "stderr",
          "text": [
            "<ipython-input-7-8173671f67ca>:26: DeprecationWarning: `np.bool` is a deprecated alias for the builtin `bool`. To silence this warning, use `bool` by itself. Doing this will not modify any behavior and is safe. If you specifically wanted the numpy scalar type, use `np.bool_` here.\n",
            "Deprecated in NumPy 1.20; for more details and guidance: https://numpy.org/devdocs/release/1.20.0-notes.html#deprecations\n",
            "  df_videos['label'] = df_videos['label'].astype(np.bool)\n"
          ]
        }
      ],
      "source": [
        "# Duas listas vazias para armazenar os resultados de métricas para frames e vídeos\n",
        "results_frame_list = []\n",
        "results_video_list = []\n",
        "\n",
        "# Itera sobre os subdiretórios encontrados em 'results_model_folder'\n",
        "for model_folder in tqdm(results_model_folder):\n",
        "    # Extrai a tag de treinamento do nome do subdiretório\n",
        "    train_model_tag = model_folder.name\n",
        "\n",
        "    # Obtém uma lista de arquivos .pkl dentro do subdiretório\n",
        "    model_results = model_folder.glob('*.pkl')\n",
        "\n",
        "    # Itera sobre os arquivos .pkl encontrados no subdiretório\n",
        "    for model_path in model_results:\n",
        "        # Extrai informações do nome do arquivo para determinar 'testdb' e 'testsplit'\n",
        "        testdb, testsplit = model_path.with_suffix('').name.rsplit('_', 1)\n",
        "\n",
        "        # Lê o arquivo .pkl em um DataFrame.\n",
        "        df_frames = pd.read_pickle(model_path)\n",
        "\n",
        "        # Calcula métricas para frames e adiciona o resultado à lista 'results_frame_list'\n",
        "        results_frame_list.append(compute_metrics(df_frames, train_model_tag))\n",
        "\n",
        "        # Agrupa os dados por vídeo e calcula métricas para vídeos.\n",
        "        df_videos = df_frames[['video', 'label', 'score']].groupby('video').mean()\n",
        "        df_videos['label'] = df_videos['label'].astype(np.bool)\n",
        "\n",
        "        # Calcula métricas para vídeos e adiciona o resultado à lista 'results_video_list'\n",
        "        results_video_list.append(compute_metrics(df_videos, train_model_tag))"
      ]
    },
    {
      "cell_type": "code",
      "execution_count": 8,
      "metadata": {
        "pycharm": {
          "is_executing": false,
          "name": "#%%\n"
        },
        "colab": {
          "base_uri": "https://localhost:8080/",
          "height": 136
        },
        "id": "ZO0QcIxD6UAC",
        "outputId": "f4665006-ba0d-4761-8eaf-faa23de4a15e"
      },
      "outputs": [
        {
          "output_type": "execute_result",
          "data": {
            "text/plain": [
              "                                            traintag                      net  \\\n",
              "0  net-EfficientNetAutoAttB4ST_traindb-dfdc-35-5-...  EfficientNetAutoAttB4ST   \n",
              "\n",
              "        traindb  numreal  numfake      loss       acc    accbal    rocauc  \n",
              "0  dfdc-35-5-10    12927    15996  0.653387  0.698406  0.715509  0.817447  "
            ],
            "text/html": [
              "\n",
              "  <div id=\"df-672ff2e5-6b50-4b1b-853f-fd1c054ae58c\" class=\"colab-df-container\">\n",
              "    <div>\n",
              "<style scoped>\n",
              "    .dataframe tbody tr th:only-of-type {\n",
              "        vertical-align: middle;\n",
              "    }\n",
              "\n",
              "    .dataframe tbody tr th {\n",
              "        vertical-align: top;\n",
              "    }\n",
              "\n",
              "    .dataframe thead th {\n",
              "        text-align: right;\n",
              "    }\n",
              "</style>\n",
              "<table border=\"1\" class=\"dataframe\">\n",
              "  <thead>\n",
              "    <tr style=\"text-align: right;\">\n",
              "      <th></th>\n",
              "      <th>traintag</th>\n",
              "      <th>net</th>\n",
              "      <th>traindb</th>\n",
              "      <th>numreal</th>\n",
              "      <th>numfake</th>\n",
              "      <th>loss</th>\n",
              "      <th>acc</th>\n",
              "      <th>accbal</th>\n",
              "      <th>rocauc</th>\n",
              "    </tr>\n",
              "  </thead>\n",
              "  <tbody>\n",
              "    <tr>\n",
              "      <th>0</th>\n",
              "      <td>net-EfficientNetAutoAttB4ST_traindb-dfdc-35-5-...</td>\n",
              "      <td>EfficientNetAutoAttB4ST</td>\n",
              "      <td>dfdc-35-5-10</td>\n",
              "      <td>12927</td>\n",
              "      <td>15996</td>\n",
              "      <td>0.653387</td>\n",
              "      <td>0.698406</td>\n",
              "      <td>0.715509</td>\n",
              "      <td>0.817447</td>\n",
              "    </tr>\n",
              "  </tbody>\n",
              "</table>\n",
              "</div>\n",
              "    <div class=\"colab-df-buttons\">\n",
              "\n",
              "  <div class=\"colab-df-container\">\n",
              "    <button class=\"colab-df-convert\" onclick=\"convertToInteractive('df-672ff2e5-6b50-4b1b-853f-fd1c054ae58c')\"\n",
              "            title=\"Convert this dataframe to an interactive table.\"\n",
              "            style=\"display:none;\">\n",
              "\n",
              "  <svg xmlns=\"http://www.w3.org/2000/svg\" height=\"24px\" viewBox=\"0 -960 960 960\">\n",
              "    <path d=\"M120-120v-720h720v720H120Zm60-500h600v-160H180v160Zm220 220h160v-160H400v160Zm0 220h160v-160H400v160ZM180-400h160v-160H180v160Zm440 0h160v-160H620v160ZM180-180h160v-160H180v160Zm440 0h160v-160H620v160Z\"/>\n",
              "  </svg>\n",
              "    </button>\n",
              "\n",
              "  <style>\n",
              "    .colab-df-container {\n",
              "      display:flex;\n",
              "      gap: 12px;\n",
              "    }\n",
              "\n",
              "    .colab-df-convert {\n",
              "      background-color: #E8F0FE;\n",
              "      border: none;\n",
              "      border-radius: 50%;\n",
              "      cursor: pointer;\n",
              "      display: none;\n",
              "      fill: #1967D2;\n",
              "      height: 32px;\n",
              "      padding: 0 0 0 0;\n",
              "      width: 32px;\n",
              "    }\n",
              "\n",
              "    .colab-df-convert:hover {\n",
              "      background-color: #E2EBFA;\n",
              "      box-shadow: 0px 1px 2px rgba(60, 64, 67, 0.3), 0px 1px 3px 1px rgba(60, 64, 67, 0.15);\n",
              "      fill: #174EA6;\n",
              "    }\n",
              "\n",
              "    .colab-df-buttons div {\n",
              "      margin-bottom: 4px;\n",
              "    }\n",
              "\n",
              "    [theme=dark] .colab-df-convert {\n",
              "      background-color: #3B4455;\n",
              "      fill: #D2E3FC;\n",
              "    }\n",
              "\n",
              "    [theme=dark] .colab-df-convert:hover {\n",
              "      background-color: #434B5C;\n",
              "      box-shadow: 0px 1px 3px 1px rgba(0, 0, 0, 0.15);\n",
              "      filter: drop-shadow(0px 1px 2px rgba(0, 0, 0, 0.3));\n",
              "      fill: #FFFFFF;\n",
              "    }\n",
              "  </style>\n",
              "\n",
              "    <script>\n",
              "      const buttonEl =\n",
              "        document.querySelector('#df-672ff2e5-6b50-4b1b-853f-fd1c054ae58c button.colab-df-convert');\n",
              "      buttonEl.style.display =\n",
              "        google.colab.kernel.accessAllowed ? 'block' : 'none';\n",
              "\n",
              "      async function convertToInteractive(key) {\n",
              "        const element = document.querySelector('#df-672ff2e5-6b50-4b1b-853f-fd1c054ae58c');\n",
              "        const dataTable =\n",
              "          await google.colab.kernel.invokeFunction('convertToInteractive',\n",
              "                                                    [key], {});\n",
              "        if (!dataTable) return;\n",
              "\n",
              "        const docLinkHtml = 'Like what you see? Visit the ' +\n",
              "          '<a target=\"_blank\" href=https://colab.research.google.com/notebooks/data_table.ipynb>data table notebook</a>'\n",
              "          + ' to learn more about interactive tables.';\n",
              "        element.innerHTML = '';\n",
              "        dataTable['output_type'] = 'display_data';\n",
              "        await google.colab.output.renderOutput(dataTable, element);\n",
              "        const docLink = document.createElement('div');\n",
              "        docLink.innerHTML = docLinkHtml;\n",
              "        element.appendChild(docLink);\n",
              "      }\n",
              "    </script>\n",
              "  </div>\n",
              "\n",
              "    </div>\n",
              "  </div>\n"
            ]
          },
          "metadata": {},
          "execution_count": 8
        }
      ],
      "source": [
        "# Cria um DataFrame 'df_res_frames' a partir da lista 'results_frame_list'\n",
        "df_res_frames = pd.DataFrame(results_frame_list)\n",
        "\n",
        "# O DataFrame 'df_res_frames' agora contém os resultados de métricas calculados para frames\n",
        "df_res_frames"
      ]
    },
    {
      "cell_type": "code",
      "execution_count": 9,
      "metadata": {
        "pycharm": {
          "is_executing": false,
          "name": "#%%\n"
        },
        "id": "MZaYCs3U6UAC",
        "colab": {
          "base_uri": "https://localhost:8080/",
          "height": 136
        },
        "outputId": "58c6503f-ad15-4f6f-c526-809e0cb68278"
      },
      "outputs": [
        {
          "output_type": "execute_result",
          "data": {
            "text/plain": [
              "                                            traintag                      net  \\\n",
              "0  net-EfficientNetAutoAttB4ST_traindb-dfdc-35-5-...  EfficientNetAutoAttB4ST   \n",
              "\n",
              "        traindb  numreal  numfake      loss       acc    accbal    rocauc  \n",
              "0  dfdc-35-5-10      404      500  0.520708  0.743363  0.762297  0.895668  "
            ],
            "text/html": [
              "\n",
              "  <div id=\"df-cef87b94-c082-43b2-842f-1e43125bf49f\" class=\"colab-df-container\">\n",
              "    <div>\n",
              "<style scoped>\n",
              "    .dataframe tbody tr th:only-of-type {\n",
              "        vertical-align: middle;\n",
              "    }\n",
              "\n",
              "    .dataframe tbody tr th {\n",
              "        vertical-align: top;\n",
              "    }\n",
              "\n",
              "    .dataframe thead th {\n",
              "        text-align: right;\n",
              "    }\n",
              "</style>\n",
              "<table border=\"1\" class=\"dataframe\">\n",
              "  <thead>\n",
              "    <tr style=\"text-align: right;\">\n",
              "      <th></th>\n",
              "      <th>traintag</th>\n",
              "      <th>net</th>\n",
              "      <th>traindb</th>\n",
              "      <th>numreal</th>\n",
              "      <th>numfake</th>\n",
              "      <th>loss</th>\n",
              "      <th>acc</th>\n",
              "      <th>accbal</th>\n",
              "      <th>rocauc</th>\n",
              "    </tr>\n",
              "  </thead>\n",
              "  <tbody>\n",
              "    <tr>\n",
              "      <th>0</th>\n",
              "      <td>net-EfficientNetAutoAttB4ST_traindb-dfdc-35-5-...</td>\n",
              "      <td>EfficientNetAutoAttB4ST</td>\n",
              "      <td>dfdc-35-5-10</td>\n",
              "      <td>404</td>\n",
              "      <td>500</td>\n",
              "      <td>0.520708</td>\n",
              "      <td>0.743363</td>\n",
              "      <td>0.762297</td>\n",
              "      <td>0.895668</td>\n",
              "    </tr>\n",
              "  </tbody>\n",
              "</table>\n",
              "</div>\n",
              "    <div class=\"colab-df-buttons\">\n",
              "\n",
              "  <div class=\"colab-df-container\">\n",
              "    <button class=\"colab-df-convert\" onclick=\"convertToInteractive('df-cef87b94-c082-43b2-842f-1e43125bf49f')\"\n",
              "            title=\"Convert this dataframe to an interactive table.\"\n",
              "            style=\"display:none;\">\n",
              "\n",
              "  <svg xmlns=\"http://www.w3.org/2000/svg\" height=\"24px\" viewBox=\"0 -960 960 960\">\n",
              "    <path d=\"M120-120v-720h720v720H120Zm60-500h600v-160H180v160Zm220 220h160v-160H400v160Zm0 220h160v-160H400v160ZM180-400h160v-160H180v160Zm440 0h160v-160H620v160ZM180-180h160v-160H180v160Zm440 0h160v-160H620v160Z\"/>\n",
              "  </svg>\n",
              "    </button>\n",
              "\n",
              "  <style>\n",
              "    .colab-df-container {\n",
              "      display:flex;\n",
              "      gap: 12px;\n",
              "    }\n",
              "\n",
              "    .colab-df-convert {\n",
              "      background-color: #E8F0FE;\n",
              "      border: none;\n",
              "      border-radius: 50%;\n",
              "      cursor: pointer;\n",
              "      display: none;\n",
              "      fill: #1967D2;\n",
              "      height: 32px;\n",
              "      padding: 0 0 0 0;\n",
              "      width: 32px;\n",
              "    }\n",
              "\n",
              "    .colab-df-convert:hover {\n",
              "      background-color: #E2EBFA;\n",
              "      box-shadow: 0px 1px 2px rgba(60, 64, 67, 0.3), 0px 1px 3px 1px rgba(60, 64, 67, 0.15);\n",
              "      fill: #174EA6;\n",
              "    }\n",
              "\n",
              "    .colab-df-buttons div {\n",
              "      margin-bottom: 4px;\n",
              "    }\n",
              "\n",
              "    [theme=dark] .colab-df-convert {\n",
              "      background-color: #3B4455;\n",
              "      fill: #D2E3FC;\n",
              "    }\n",
              "\n",
              "    [theme=dark] .colab-df-convert:hover {\n",
              "      background-color: #434B5C;\n",
              "      box-shadow: 0px 1px 3px 1px rgba(0, 0, 0, 0.15);\n",
              "      filter: drop-shadow(0px 1px 2px rgba(0, 0, 0, 0.3));\n",
              "      fill: #FFFFFF;\n",
              "    }\n",
              "  </style>\n",
              "\n",
              "    <script>\n",
              "      const buttonEl =\n",
              "        document.querySelector('#df-cef87b94-c082-43b2-842f-1e43125bf49f button.colab-df-convert');\n",
              "      buttonEl.style.display =\n",
              "        google.colab.kernel.accessAllowed ? 'block' : 'none';\n",
              "\n",
              "      async function convertToInteractive(key) {\n",
              "        const element = document.querySelector('#df-cef87b94-c082-43b2-842f-1e43125bf49f');\n",
              "        const dataTable =\n",
              "          await google.colab.kernel.invokeFunction('convertToInteractive',\n",
              "                                                    [key], {});\n",
              "        if (!dataTable) return;\n",
              "\n",
              "        const docLinkHtml = 'Like what you see? Visit the ' +\n",
              "          '<a target=\"_blank\" href=https://colab.research.google.com/notebooks/data_table.ipynb>data table notebook</a>'\n",
              "          + ' to learn more about interactive tables.';\n",
              "        element.innerHTML = '';\n",
              "        dataTable['output_type'] = 'display_data';\n",
              "        await google.colab.output.renderOutput(dataTable, element);\n",
              "        const docLink = document.createElement('div');\n",
              "        docLink.innerHTML = docLinkHtml;\n",
              "        element.appendChild(docLink);\n",
              "      }\n",
              "    </script>\n",
              "  </div>\n",
              "\n",
              "    </div>\n",
              "  </div>\n"
            ]
          },
          "metadata": {},
          "execution_count": 9
        }
      ],
      "source": [
        "# Cria um DataFrame 'df_res_video' a partir da lista 'results_video_list'\n",
        "df_res_video = pd.DataFrame(results_video_list)\n",
        "\n",
        "# O DataFrame 'df_res_video' agora contém os resultados de métricas calculados para vídeos\n",
        "df_res_video"
      ]
    },
    {
      "cell_type": "code",
      "execution_count": 10,
      "metadata": {
        "pycharm": {
          "name": "#%%\n"
        },
        "id": "f7ur_ZLm6UAC"
      },
      "outputs": [],
      "source": [
        "# Salva o DataFrame 'df_res_frames' como um arquivo CSV no diretório 'results'.\n",
        "df_res_frames.to_csv(results_root.joinpath('frames.csv'), index=False)\n",
        "\n",
        "# Salva o DataFrame 'df_res_video' como um arquivo CSV no diretório 'results'.\n",
        "df_res_video.to_csv(results_root.joinpath('videos.csv'), index=False)\n"
      ]
    },
    {
      "cell_type": "markdown",
      "source": [
        "* **Matriz confusão com o número de frames**\n",
        "\n"
      ],
      "metadata": {
        "id": "z8PlR5yuoMP4"
      }
    },
    {
      "cell_type": "code",
      "source": [
        "from sklearn.metrics import confusion_matrix  # Importação da função confusion_matrix para calcular a matriz de confusão\n",
        "import matplotlib.pyplot as plt  # Importação da biblioteca Matplotlib para visualização\n",
        "import seaborn as sns  # Importação da biblioteca Seaborn para criação de gráficos mais atraentes\n",
        "\n",
        "# Obtendo as previsões e rótulos verdadeiros para as frames\n",
        "predicted_labels = df_frames['score'] > 0\n",
        "true_labels = df_frames['label']\n",
        "\n",
        "# Calculando a matriz de confusão.\n",
        "confusion = confusion_matrix(true_labels, predicted_labels)\n",
        "\n",
        "# Configurando a exibição da matriz de confusão usando um heatmap\n",
        "plt.figure(figsize=(8, 6))\n",
        "sns.heatmap(confusion, annot=True, fmt='d', cmap='Blues',\n",
        "            xticklabels=['Imagem Falsa', 'Imagem Verdadeira'], yticklabels=['Imagem Falsa', 'Imagem Verdadeira'])\n",
        "plt.xlabel('Previsão')\n",
        "plt.ylabel('Classificação Real')\n",
        "plt.title('Matriz de Confusão')\n",
        "\n",
        "# Salvar a imagem da matriz de confusão como um arquivo PNG\n",
        "plt.savefig(f'{result_net}_matriz_confusao_frames.png')\n",
        "\n",
        "# Exibe a imagem da matriz de confusão\n",
        "plt.show()\n"
      ],
      "metadata": {
        "colab": {
          "base_uri": "https://localhost:8080/",
          "height": 564
        },
        "id": "-61nGDQP_8vk",
        "outputId": "8d028b14-d09f-4722-9c02-e5fa22d4c4a6"
      },
      "execution_count": 14,
      "outputs": [
        {
          "output_type": "display_data",
          "data": {
            "text/plain": [
              "<Figure size 800x600 with 2 Axes>"
            ],
            "image/png": "[encoded data removed]"
          },
          "metadata": {}
        }
      ]
    },
    {
      "cell_type": "markdown",
      "source": [
        "* **Matriz confusão com as porcentagens**"
      ],
      "metadata": {
        "id": "0o4B1HOpoZ7g"
      }
    },
    {
      "cell_type": "code",
      "source": [
        "from sklearn.metrics import confusion_matrix  # Importação da função confusion_matrix para calcular a matriz de confusão\n",
        "import matplotlib.pyplot as plt  # Importação da biblioteca Matplotlib para visualização\n",
        "import seaborn as sns  # Importação da biblioteca Seaborn para criação de gráficos mais atraentes\n",
        "\n",
        "# Obtendo as previsões e rótulos verdadeiros para as frames\n",
        "predicted_labels = df_frames['score'] > 0\n",
        "true_labels = df_frames['label']\n",
        "\n",
        "# Calculando a matriz de confusão.\n",
        "confusion = confusion_matrix(true_labels, predicted_labels)\n",
        "\n",
        "# Calculando as porcentagens de cada célula da matriz de confusão\n",
        "total_samples = len(true_labels)\n",
        "confusion_percentage = confusion / total_samples * 100\n",
        "\n",
        "# Formatando a matriz de confusão como strings com o símbolo '%' e nenhum formato\n",
        "confusion_strings = [[\"{:.2f}%\".format(item) for item in row] for row in confusion_percentage]\n",
        "\n",
        "# Exibindo a matriz de confusão usando um heatmap com os valores formatados\n",
        "plt.figure(figsize=(8, 6))\n",
        "sns.heatmap(confusion_percentage, annot=confusion_strings, fmt='', cmap='Blues',\n",
        "            xticklabels=['Imagem Falsa', 'Imagem Verdadeira'], yticklabels=['Imagem Falsa', 'Imagem Verdadeira'])\n",
        "plt.xlabel('Previsão')\n",
        "plt.ylabel('Classificação Real')\n",
        "plt.title('Matriz de Confusão (Porcentagens)')\n",
        "\n",
        "# Adicionando a quantidade total de frames abaixo da matriz\n",
        "plt.annotate(f'Total de Frames: {total_samples}', (0.5, -0.15), xycoords='axes fraction', ha='center')\n",
        "\n",
        "# Salvar a imagem da matriz de confusão em porcentagem como um arquivo PNG\n",
        "plt.savefig(f'{result_net}_matriz_confusao_porcentagem.png')\n",
        "\n",
        "# Exibe a imagem da matriz de confusão em porcentagem\n",
        "plt.show()\n"
      ],
      "metadata": {
        "id": "8PqG8p7leYv8",
        "colab": {
          "base_uri": "https://localhost:8080/",
          "height": 593
        },
        "outputId": "8572912d-1f62-4f2c-dbdc-3cff55777b41"
      },
      "execution_count": 15,
      "outputs": [
        {
          "output_type": "display_data",
          "data": {
            "text/plain": [
              "<Figure size 800x600 with 2 Axes>"
            ],
            "image/png": "[encoded data removed]"
          },
          "metadata": {}
        }
      ]
    },
    {
      "cell_type": "markdown",
      "source": [
        "* **Métricas importantes**\n",
        "\n"
      ],
      "metadata": {
        "id": "scQQ4QshoeJZ"
      }
    },
    {
      "cell_type": "code",
      "source": [
        "from sklearn.metrics import confusion_matrix, precision_score, recall_score, accuracy_score, f1_score, roc_auc_score\n",
        "\n",
        "# Obtendo os valores da matriz de confusão\n",
        "TN, FP, FN, TP = confusion.ravel()\n",
        "\n",
        "# Calculando as métricas\n",
        "accuracy = (TP + TN) / (TP + TN + FP + FN)  # Acurácia\n",
        "precision = TP / (TP + FP)  # Precisão\n",
        "recall = TP / (TP + FN)  # Recall (Sensibilidade)\n",
        "specificity = TN / (TN + FP)  # Especificidade\n",
        "f1 = 2 * (precision * recall) / (precision + recall)  # F1 Score\n",
        "roc_auc = roc_auc_score(true_labels, predicted_labels)  # Área sob a curva ROC (AUC-ROC)\n",
        "\n",
        "# Imprimindo as métricas\n",
        "print(f\"Accuracy: {accuracy:.4f}\")\n",
        "print(f\"Precision: {precision:.4f}\")\n",
        "print(f\"Recall (Sensitivity): {recall:.4f}\")\n",
        "print(f\"Specificity: {specificity:.4f}\")\n",
        "print(f\"F1 Score: {f1:.4f}\")\n",
        "print(f\"AUC-ROC: {roc_auc:.4f}\")\n"
      ],
      "metadata": {
        "colab": {
          "base_uri": "https://localhost:8080/"
        },
        "id": "kFqlOznp_8sc",
        "outputId": "f4d3a74d-4916-4925-c1b3-0cd78eb0f76e"
      },
      "execution_count": 13,
      "outputs": [
        {
          "output_type": "stream",
          "name": "stdout",
          "text": [
            "Accuracy: 0.6984\n",
            "Precision: 0.8476\n",
            "Recall (Sensitivity): 0.5543\n",
            "Specificity: 0.8767\n",
            "F1 Score: 0.6703\n",
            "AUC-ROC: 0.7155\n"
          ]
        }
      ]
    },
    {
      "cell_type": "markdown",
      "source": [
        "* **Gráfico da curva ROC**\n",
        "\n"
      ],
      "metadata": {
        "id": "IM7TmjJ3oh2h"
      }
    },
    {
      "cell_type": "code",
      "source": [
        "import matplotlib.pyplot as plt  # Importação da biblioteca Matplotlib para visualização\n",
        "from sklearn.metrics import roc_curve  # Importação da função roc_curve para calcular a curva ROC\n",
        "\n",
        "# Obtendo os valores da matriz de confusão\n",
        "TN, FP, FN, TP = confusion.ravel()\n",
        "\n",
        "# Calculando as métricas\n",
        "accuracy = (TP + TN) / (TP + TN + FP + FN)\n",
        "precision = TP / (TP + FP)\n",
        "recall = TP / (TP + FN)\n",
        "specificity = TN / (TN + FP)\n",
        "f1 = 2 * (precision * recall) / (precision + recall)\n",
        "roc_auc = roc_auc_score(true_labels, predicted_labels)\n",
        "\n",
        "# Calculando a curva ROC\n",
        "fpr, tpr, thresholds = roc_curve(true_labels, predicted_labels)\n",
        "\n",
        "# Plotando a curva ROC\n",
        "plt.figure(figsize=(8, 6))\n",
        "plt.plot(fpr, tpr, color='blue', lw=2, label='ROC curve (area = {:.2f})'.format(roc_auc))\n",
        "plt.plot([0, 1], [0, 1], color='gray', lw=1, linestyle='--')\n",
        "plt.xlim([0.0, 1.0])\n",
        "plt.ylim([0.0, 1.05])\n",
        "plt.xlabel('Taxa de Falso Positivo')\n",
        "plt.ylabel('Taxa de Verdadeiro Positivo')\n",
        "plt.title('Curva ROC (Receiver Operating Characteristic)')\n",
        "plt.legend(loc='lower right')\n",
        "\n",
        "# Salvar a imagem da curva ROC como um arquivo PNG\n",
        "plt.savefig(f'{result_net}_ROC.png')\n",
        "\n",
        "# Exibe a curva ROC\n",
        "plt.show()\n",
        "\n",
        "# Imprimindo as métricas\n",
        "print(f\"Accuracy: {accuracy:.4f}\")\n",
        "print(f\"Precision: {precision:.4f}\")\n",
        "print(f\"Recall (Sensitivity): {recall:.4f}\")\n",
        "print(f\"Specificity: {specificity:.4f}\")\n",
        "print(f\"F1 Score: {f1:.4f}\")\n",
        "print(f\"AUC-ROC: {roc_auc:.4f}\")\n"
      ],
      "metadata": {
        "id": "tamWYkyM_8ps",
        "colab": {
          "base_uri": "https://localhost:8080/",
          "height": 668
        },
        "outputId": "d868fea7-085b-434f-8ed1-b192892da6b2"
      },
      "execution_count": null,
      "outputs": [
        {
          "output_type": "display_data",
          "data": {
            "text/plain": [
              "<Figure size 800x600 with 1 Axes>"
            ],
            "image/png": "[encoded data removed]"
          },
          "metadata": {}
        },
        {
          "output_type": "stream",
          "name": "stdout",
          "text": [
            "Accuracy: 0.6984\n",
            "Precision: 0.8476\n",
            "Recall (Sensitivity): 0.5543\n",
            "Specificity: 0.8767\n",
            "F1 Score: 0.6703\n",
            "AUC-ROC: 0.7155\n"
          ]
        }
      ]
    },
    {
      "cell_type": "code",
      "source": [],
      "metadata": {
        "id": "LhanMKM0_8m0"
      },
      "execution_count": null,
      "outputs": []
    },
    {
      "cell_type": "code",
      "source": [],
      "metadata": {
        "id": "WeK52Jve_8fV"
      },
      "execution_count": null,
      "outputs": []
    }
  ],
  "metadata": {
    "kernelspec": {
      "display_name": "Python 3",
      "name": "python3"
    },
    "language_info": {
      "codemirror_mode": {
        "name": "ipython",
        "version": 3
      },
      "file_extension": ".py",
      "mimetype": "text/x-python",
      "name": "python",
      "nbconvert_exporter": "python",
      "pygments_lexer": "ipython3",
      "version": "3.6.9"
    },
    "pycharm": {
      "stem_cell": {
        "cell_type": "raw",
        "source": [],
        "metadata": {
          "collapsed": false
        }
      }
    },
    "colab": {
      "provenance": []
    },
    "widgets": {
      "application/vnd.jupyter.widget-state+json": {
        "26d04c0f74914ba89024dcfbb0502b6c": {
          "model_module": "@jupyter-widgets/controls",
          "model_name": "HBoxModel",
          "model_module_version": "1.5.0",
          "state": {
            "_dom_classes": [],
            "_model_module": "@jupyter-widgets/controls",
            "_model_module_version": "1.5.0",
            "_model_name": "HBoxModel",
            "_view_count": null,
            "_view_module": "@jupyter-widgets/controls",
            "_view_module_version": "1.5.0",
            "_view_name": "HBoxView",
            "box_style": "",
            "children": [
              "IPY_MODEL_22aa095635f74e6c915c1cb263bc2060",
              "IPY_MODEL_fe051550c9a84bdb8dadf61d5fc811d5",
              "IPY_MODEL_6b4afe77948b488ca19da47952fde19f"
            ],
            "layout": "IPY_MODEL_f65fd57474b043d3aaca6ec390a879c0"
          }
        },
        "22aa095635f74e6c915c1cb263bc2060": {
          "model_module": "@jupyter-widgets/controls",
          "model_name": "HTMLModel",
          "model_module_version": "1.5.0",
          "state": {
            "_dom_classes": [],
            "_model_module": "@jupyter-widgets/controls",
            "_model_module_version": "1.5.0",
            "_model_name": "HTMLModel",
            "_view_count": null,
            "_view_module": "@jupyter-widgets/controls",
            "_view_module_version": "1.5.0",
            "_view_name": "HTMLView",
            "description": "",
            "description_tooltip": null,
            "layout": "IPY_MODEL_327ef9514d0540b1b8acad0ae67a7540",
            "placeholder": "​",
            "style": "IPY_MODEL_bf4f0126e6c04f6185a78eeaff3d7d24",
            "value": "100%"
          }
        },
        "fe051550c9a84bdb8dadf61d5fc811d5": {
          "model_module": "@jupyter-widgets/controls",
          "model_name": "FloatProgressModel",
          "model_module_version": "1.5.0",
          "state": {
            "_dom_classes": [],
            "_model_module": "@jupyter-widgets/controls",
            "_model_module_version": "1.5.0",
            "_model_name": "FloatProgressModel",
            "_view_count": null,
            "_view_module": "@jupyter-widgets/controls",
            "_view_module_version": "1.5.0",
            "_view_name": "ProgressView",
            "bar_style": "success",
            "description": "",
            "description_tooltip": null,
            "layout": "IPY_MODEL_711fc7110761436dbf4c533c81af57da",
            "max": 1,
            "min": 0,
            "orientation": "horizontal",
            "style": "IPY_MODEL_9501be119f2c4808a3b09f6748dda7f1",
            "value": 1
          }
        },
        "6b4afe77948b488ca19da47952fde19f": {
          "model_module": "@jupyter-widgets/controls",
          "model_name": "HTMLModel",
          "model_module_version": "1.5.0",
          "state": {
            "_dom_classes": [],
            "_model_module": "@jupyter-widgets/controls",
            "_model_module_version": "1.5.0",
            "_model_name": "HTMLModel",
            "_view_count": null,
            "_view_module": "@jupyter-widgets/controls",
            "_view_module_version": "1.5.0",
            "_view_name": "HTMLView",
            "description": "",
            "description_tooltip": null,
            "layout": "IPY_MODEL_5fa2456cd15d460986be3a6c921daef5",
            "placeholder": "​",
            "style": "IPY_MODEL_a41f3944dfb044c38d795d55d86370a4",
            "value": " 1/1 [00:00&lt;00:00,  7.13it/s]"
          }
        },
        "f65fd57474b043d3aaca6ec390a879c0": {
          "model_module": "@jupyter-widgets/base",
          "model_name": "LayoutModel",
          "model_module_version": "1.2.0",
          "state": {
            "_model_module": "@jupyter-widgets/base",
            "_model_module_version": "1.2.0",
            "_model_name": "LayoutModel",
            "_view_count": null,
            "_view_module": "@jupyter-widgets/base",
            "_view_module_version": "1.2.0",
            "_view_name": "LayoutView",
            "align_content": null,
            "align_items": null,
            "align_self": null,
            "border": null,
            "bottom": null,
            "display": null,
            "flex": null,
            "flex_flow": null,
            "grid_area": null,
            "grid_auto_columns": null,
            "grid_auto_flow": null,
            "grid_auto_rows": null,
            "grid_column": null,
            "grid_gap": null,
            "grid_row": null,
            "grid_template_areas": null,
            "grid_template_columns": null,
            "grid_template_rows": null,
            "height": null,
            "justify_content": null,
            "justify_items": null,
            "left": null,
            "margin": null,
            "max_height": null,
            "max_width": null,
            "min_height": null,
            "min_width": null,
            "object_fit": null,
            "object_position": null,
            "order": null,
            "overflow": null,
            "overflow_x": null,
            "overflow_y": null,
            "padding": null,
            "right": null,
            "top": null,
            "visibility": null,
            "width": null
          }
        },
        "327ef9514d0540b1b8acad0ae67a7540": {
          "model_module": "@jupyter-widgets/base",
          "model_name": "LayoutModel",
          "model_module_version": "1.2.0",
          "state": {
            "_model_module": "@jupyter-widgets/base",
            "_model_module_version": "1.2.0",
            "_model_name": "LayoutModel",
            "_view_count": null,
            "_view_module": "@jupyter-widgets/base",
            "_view_module_version": "1.2.0",
            "_view_name": "LayoutView",
            "align_content": null,
            "align_items": null,
            "align_self": null,
            "border": null,
            "bottom": null,
            "display": null,
            "flex": null,
            "flex_flow": null,
            "grid_area": null,
            "grid_auto_columns": null,
            "grid_auto_flow": null,
            "grid_auto_rows": null,
            "grid_column": null,
            "grid_gap": null,
            "grid_row": null,
            "grid_template_areas": null,
            "grid_template_columns": null,
            "grid_template_rows": null,
            "height": null,
            "justify_content": null,
            "justify_items": null,
            "left": null,
            "margin": null,
            "max_height": null,
            "max_width": null,
            "min_height": null,
            "min_width": null,
            "object_fit": null,
            "object_position": null,
            "order": null,
            "overflow": null,
            "overflow_x": null,
            "overflow_y": null,
            "padding": null,
            "right": null,
            "top": null,
            "visibility": null,
            "width": null
          }
        },
        "bf4f0126e6c04f6185a78eeaff3d7d24": {
          "model_module": "@jupyter-widgets/controls",
          "model_name": "DescriptionStyleModel",
          "model_module_version": "1.5.0",
          "state": {
            "_model_module": "@jupyter-widgets/controls",
            "_model_module_version": "1.5.0",
            "_model_name": "DescriptionStyleModel",
            "_view_count": null,
            "_view_module": "@jupyter-widgets/base",
            "_view_module_version": "1.2.0",
            "_view_name": "StyleView",
            "description_width": ""
          }
        },
        "711fc7110761436dbf4c533c81af57da": {
          "model_module": "@jupyter-widgets/base",
          "model_name": "LayoutModel",
          "model_module_version": "1.2.0",
          "state": {
            "_model_module": "@jupyter-widgets/base",
            "_model_module_version": "1.2.0",
            "_model_name": "LayoutModel",
            "_view_count": null,
            "_view_module": "@jupyter-widgets/base",
            "_view_module_version": "1.2.0",
            "_view_name": "LayoutView",
            "align_content": null,
            "align_items": null,
            "align_self": null,
            "border": null,
            "bottom": null,
            "display": null,
            "flex": null,
            "flex_flow": null,
            "grid_area": null,
            "grid_auto_columns": null,
            "grid_auto_flow": null,
            "grid_auto_rows": null,
            "grid_column": null,
            "grid_gap": null,
            "grid_row": null,
            "grid_template_areas": null,
            "grid_template_columns": null,
            "grid_template_rows": null,
            "height": null,
            "justify_content": null,
            "justify_items": null,
            "left": null,
            "margin": null,
            "max_height": null,
            "max_width": null,
            "min_height": null,
            "min_width": null,
            "object_fit": null,
            "object_position": null,
            "order": null,
            "overflow": null,
            "overflow_x": null,
            "overflow_y": null,
            "padding": null,
            "right": null,
            "top": null,
            "visibility": null,
            "width": null
          }
        },
        "9501be119f2c4808a3b09f6748dda7f1": {
          "model_module": "@jupyter-widgets/controls",
          "model_name": "ProgressStyleModel",
          "model_module_version": "1.5.0",
          "state": {
            "_model_module": "@jupyter-widgets/controls",
            "_model_module_version": "1.5.0",
            "_model_name": "ProgressStyleModel",
            "_view_count": null,
            "_view_module": "@jupyter-widgets/base",
            "_view_module_version": "1.2.0",
            "_view_name": "StyleView",
            "bar_color": null,
            "description_width": ""
          }
        },
        "5fa2456cd15d460986be3a6c921daef5": {
          "model_module": "@jupyter-widgets/base",
          "model_name": "LayoutModel",
          "model_module_version": "1.2.0",
          "state": {
            "_model_module": "@jupyter-widgets/base",
            "_model_module_version": "1.2.0",
            "_model_name": "LayoutModel",
            "_view_count": null,
            "_view_module": "@jupyter-widgets/base",
            "_view_module_version": "1.2.0",
            "_view_name": "LayoutView",
            "align_content": null,
            "align_items": null,
            "align_self": null,
            "border": null,
            "bottom": null,
            "display": null,
            "flex": null,
            "flex_flow": null,
            "grid_area": null,
            "grid_auto_columns": null,
            "grid_auto_flow": null,
            "grid_auto_rows": null,
            "grid_column": null,
            "grid_gap": null,
            "grid_row": null,
            "grid_template_areas": null,
            "grid_template_columns": null,
            "grid_template_rows": null,
            "height": null,
            "justify_content": null,
            "justify_items": null,
            "left": null,
            "margin": null,
            "max_height": null,
            "max_width": null,
            "min_height": null,
            "min_width": null,
            "object_fit": null,
            "object_position": null,
            "order": null,
            "overflow": null,
            "overflow_x": null,
            "overflow_y": null,
            "padding": null,
            "right": null,
            "top": null,
            "visibility": null,
            "width": null
          }
        },
        "a41f3944dfb044c38d795d55d86370a4": {
          "model_module": "@jupyter-widgets/controls",
          "model_name": "DescriptionStyleModel",
          "model_module_version": "1.5.0",
          "state": {
            "_model_module": "@jupyter-widgets/controls",
            "_model_module_version": "1.5.0",
            "_model_name": "DescriptionStyleModel",
            "_view_count": null,
            "_view_module": "@jupyter-widgets/base",
            "_view_module_version": "1.2.0",
            "_view_name": "StyleView",
            "description_width": ""
          }
        }
      }
    }
  },
  "nbformat": 4,
  "nbformat_minor": 0
}